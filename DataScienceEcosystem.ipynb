{
 "cells": [
  {
   "cell_type": "markdown",
   "id": "0279abad-33d8-45ba-a8ff-e4e243b6a903",
   "metadata": {},
   "source": [
    "# Data Science Tools and Ecosytem"
   ]
  },
  {
   "cell_type": "markdown",
   "id": "5755ad87-02e5-4bf9-befc-65548a4c0d47",
   "metadata": {},
   "source": [
    "In this notebook, Data Science tools and Ecosystem are summerized."
   ]
  },
  {
   "cell_type": "markdown",
   "id": "e602fd07-0d29-4adc-9b42-11859dcbfd6a",
   "metadata": {},
   "source": [
    "**Objectives:**"
   ]
  },
  {
   "cell_type": "markdown",
   "id": "78d8bfec-fc50-466e-982f-e94e73e9e27c",
   "metadata": {},
   "source": [
    " - Popular languages for Data Science"
   ]
  },
  {
   "cell_type": "markdown",
   "id": "fd865621-8f8b-415b-9c8e-871bd8552177",
   "metadata": {},
   "source": [
    " - Commonly used libraries for Data Science"
   ]
  },
  {
   "cell_type": "markdown",
   "id": "bf8725e3-04be-4d7a-b4e9-44065e2bb3fc",
   "metadata": {},
   "source": [
    " - Arithmetic Expressions in Python"
   ]
  },
  {
   "cell_type": "markdown",
   "id": "c83e5851-0d58-4901-ab10-49cc1a4f2777",
   "metadata": {},
   "source": [
    ">Some of the popular languages that Data Scientists use are:"
   ]
  },
  {
   "cell_type": "markdown",
   "id": "01a4e87f-9101-4612-8402-a5fbe36abcd8",
   "metadata": {},
   "source": [
    "1. Python"
   ]
  },
  {
   "cell_type": "markdown",
   "id": "6e8cc6a4-5a49-48ec-bfe2-22b495edd149",
   "metadata": {},
   "source": [
    "2. R"
   ]
  },
  {
   "cell_type": "markdown",
   "id": "dbcddcc9-2919-4377-9b42-2c16cacfdeaa",
   "metadata": {},
   "source": [
    "3. SQL "
   ]
  },
  {
   "cell_type": "markdown",
   "id": "a418765b-2174-40f5-9f7f-c978f2638cf0",
   "metadata": {},
   "source": [
    "4.Scala"
   ]
  },
  {
   "cell_type": "markdown",
   "id": "acb97b43-a3ac-405e-82d9-8ba3d7a0b547",
   "metadata": {},
   "source": [
    "5. Julia"
   ]
  },
  {
   "cell_type": "markdown",
   "id": "990e69f4-7b9f-4523-a322-07f6523f9c09",
   "metadata": {},
   "source": [
    "6. Java"
   ]
  },
  {
   "cell_type": "markdown",
   "id": "da088ae7-ffda-4445-a06a-4d83a63652f5",
   "metadata": {},
   "source": [
    "7. CTT"
   ]
  },
  {
   "cell_type": "markdown",
   "id": "55ddce7b-a33b-4f37-b0f1-9c31c07b2ef5",
   "metadata": {},
   "source": [
    "Some of the common used libraries used by Data  Scientist include:"
   ]
  },
  {
   "cell_type": "markdown",
   "id": "03011608-6f68-47c7-b16a-f8522523ac17",
   "metadata": {},
   "source": [
    "    -Matplotlib\n",
    "    -Seaborn\n",
    "    -Pandas"
   ]
  },
  {
   "cell_type": "markdown",
   "id": "d84fd3de-94c1-40eb-af9b-b99c83fed2ad",
   "metadata": {},
   "source": [
    "                                                               Data Science tools"
   ]
  },
  {
   "cell_type": "markdown",
   "id": "e664e674-da2e-4a79-8ec8-4cc975151933",
   "metadata": {},
   "source": [
    "| MySQL | MongoDB | Hadoop HDFS | \n",
    "|-------|---------|-------------|\n",
    "|       |         |             |\n",
    "    "
   ]
  },
  {
   "cell_type": "markdown",
   "id": "7ef6f1ca-500b-4d92-98ec-fb0dae25ab64",
   "metadata": {},
   "source": [
    "### Arithmetic expressions "
   ]
  },
  {
   "cell_type": "markdown",
   "id": "c8039528-b724-4658-81ae-b07c6314ccb5",
   "metadata": {},
   "source": [
    "Below are a few examples of evaluating arithmetic expressions in Python"
   ]
  },
  {
   "cell_type": "code",
   "execution_count": 21,
   "id": "45bc8140-6270-4690-8cc1-371119ac56da",
   "metadata": {},
   "outputs": [
    {
     "data": {
      "text/plain": [
       "17"
      ]
     },
     "execution_count": 21,
     "metadata": {},
     "output_type": "execute_result"
    }
   ],
   "source": [
    "(3*4)+5"
   ]
  },
  {
   "cell_type": "code",
   "execution_count": 25,
   "id": "e234fce9-de99-4389-a397-cdd183432408",
   "metadata": {},
   "outputs": [
    {
     "name": "stdout",
     "output_type": "stream",
     "text": [
      "200 minutes is equal to 3.3333333333333335 hours\n"
     ]
    }
   ],
   "source": [
    "def minutes_to_hours (minutes):\n",
    "    hours = minutes / 60\n",
    "    return hours\n",
    "\n",
    "minutes = 200 \n",
    "hours = minutes_to_hours(minutes)\n",
    "\n",
    "print(f\"{minutes} minutes is equal to {hours} hours\")"
   ]
  },
  {
   "cell_type": "markdown",
   "id": "8931a9ea-9a1b-47a3-818d-bf38b6cffd65",
   "metadata": {},
   "source": [
    "## Author"
   ]
  },
  {
   "cell_type": "markdown",
   "id": "f8909905-aac1-4a2a-8ad4-d90a82b19efd",
   "metadata": {},
   "source": [
    "Naresa Ntombah"
   ]
  },
  {
   "cell_type": "code",
   "execution_count": null,
   "id": "dc463e7d-58e5-40cc-b0f2-965e10208e4d",
   "metadata": {},
   "outputs": [],
   "source": []
  }
 ],
 "metadata": {
  "kernelspec": {
   "display_name": "Python 3 (ipykernel)",
   "language": "python",
   "name": "python3"
  },
  "language_info": {
   "codemirror_mode": {
    "name": "ipython",
    "version": 3
   },
   "file_extension": ".py",
   "mimetype": "text/x-python",
   "name": "python",
   "nbconvert_exporter": "python",
   "pygments_lexer": "ipython3",
   "version": "3.12.4"
  }
 },
 "nbformat": 4,
 "nbformat_minor": 5
}
